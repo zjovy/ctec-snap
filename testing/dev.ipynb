{
 "cells": [
  {
   "cell_type": "code",
   "execution_count": 9,
   "metadata": {},
   "outputs": [],
   "source": [
    "import pandas as pd \n"
   ]
  },
  {
   "cell_type": "code",
   "execution_count": 12,
   "metadata": {},
   "outputs": [],
   "source": [
    "df = pd.read_csv(r\"C:\\Users\\mhenr\\Documents\\Github\\ctec-bot\\testing\\cs111_reviews.csv\")"
   ]
  },
  {
   "cell_type": "code",
   "execution_count": 18,
   "metadata": {},
   "outputs": [],
   "source": [
    "# Fixing the last incomplete response and finalizing the list\n",
    "\n",
    "responses = [\n",
    "    \"While I don't think I'll ever use racket as a language again the course was really good!\",\n",
    "    \"You don't need any computer science knowledge to understand/do well in this course. Personally, I wasn't a big fan of the at–home lectures and in–class working time; it often felt more beneficial to skip class and work independently on the attendance assignments (as they could usually be finished in less than 50 minutes). In–class review sessions for exams were helpful though, and the TAs were great.\",\n",
    "    \"This is a good class. The assignments can be challenging but you can always get help on them. The exams aren't difficult if you study a bit and you pretty much know what's gonna be on them. Sara is a fantastic teacher, super nice, and really wants her students to be successful.\",\n",
    "    \"This was a GREAT intro course for anyone interested in CS. While yes, Racket is not a very practical language to learn, it does teach the fundamentals well and 'levels the playing field.' If you're not interested in doing a CS major/minor later on, however, I would recommend just doing 110/150 to learn Python.\",\n",
    "    \"Prof. Sood is the best! She is clearly very enthusiastic about teaching and makes learning fun, which helped immensely in my first CS class ever. There were an abundance of PM (TA) office hours to guide you through each exercise if needed, especially if you don't have prior coding experience like myself. There were also a lot of old practice exams that were very helpful for review for the 2 exams of the quarter (no final).\",\n",
    "    \"My advice? Aim to ACE the first exam, which is significantly easier than the second exam. Since both exams combined only count for 40% of your grade, and assuming you do all the exercises completely (which also count for 40% of your grade for 9 exercises), you have a lot of leeway on the second exam in case it doesn't go too well. The grade cutoff for an A is a 94, which isn't too bad but if you don't do too well on the first exam, it can be hard. Good luck!\",\n",
    "    \"This is an incredibly easy class to take and pass. It is easy to learn and well taught, and barely takes more than a couple of hours a week.\",\n",
    "    \"I absolutely LOVE Professor Sood! She is truly such an amazing professor, extremely kind, caring, and understanding. This class was honestly very stress–free and manageable, just make sure to get help from your peers or go to office hours for help on the weekly homework and you'll be fine! Also only 2 exams throughout the quarter and no final which is great. I learned a lot about Racket and the ethics of computer science, really glad I took this course.\",\n",
    "    \"Despite the course being taught in a less popular language, I thought it was a decent introduction to programming. As someone with a bit of Python/R exposure, this course helped strengthen my coding logic skills. Additionally, Professor Sood was great at explaining concepts in class.\",\n",
    "    \"Very important.\",\n",
    "    \"This class is a good introduction to coding, and it is still interesting even if you have some experience coding already. The work is very manageable if you use the time provided in class to do the assignments. The flipped classroom setup can be a little annoying at times, but it allows you to get the assignments done in class, so it’s a trade off.\",\n",
    "    \"Sara is one of the nicest professors at NU. The TAs are not the MOST helpful, so try to take the class with friends. You can do poorly on exams as long as you do well on the projects due each week. Projects due every Friday, 2–3 really short, easy quizzes due before class each week. Two exams (midterm + final). There is also participation given for attendance, one outside of class discussion due (graded very easily), and an extra credit opportunity at the end.\",\n",
    "    \"This class is not difficult or time consuming. You can get all of the work done in class and you should go to office hours if you are stuck. Do not waste a lot of time trying to figure things out on your own. Make sure to do the exercises because they will help you with the exam and are the majority of your grade.\",\n",
    "    \"Professor absolutely amazing but I’m not a comp sci person so I didn’t like this class. Don’t love flipped classrooms. Lots of work.\",\n",
    "    \"Great class. This was my first CS class I liked Racket more than I thought I would. Two opportunities for extra credit and lots of office hours. Prof Sara is the best!\",\n",
    "    \"I highly discourage taking this course if you are between taking Compsci 110 and 111. IF YOU HAVE NO PRIOR CODING EXPERIENCE, I SUGGEST 110!!! Don't let some of the CTECs about Professor Bain scare you, 110 is much more fitting for non-majors than 111. Professor Sood was incredible, however, this class was extremely difficult if you're new to comp sci.\",\n",
    "    \"I think going to office hours or working with classmates to study course material and figure out challenging assignments was helpful.\",\n",
    "    \"Only take this class if you are planning or interested in going into computer science. If not, I recommend taking CS 110–0. This class was very fast–paced and it was difficult to keep up to the pace since I had never done any type of programming before this class. This class is definitely do–able and there are so many resources to help you... but if you don't have to take the class, I probably wouldn't take it. The assignments were not that bad, but there were two exams, and those were just difficult to study for.\",\n",
    "    \"Sara is a fantastic professor; she is so invested, supportive and considerate of our time. She remembered my name after learning it once on the first day of class. The culture of this class was so supportive and I truly felt like everyone was invested in trying to help me learn. This class taught me how to think about CS and approach coding problems. I sincerely wish I had taken the CS classes in order because I would have gotten much more out of CS 150 if I had this background knowledge. The exams were fair and the in–class help on the assignments made even the trickiest of problems make sense.\",\n",
    "    \"This course was a great introductory course to coding.\",\n",
    "    \"Prof. Sood is amazing! This course is so much fun, especially if you are interested in CS. It is not a great amount of work, but it does test you intellectually as well as your knowledge and enthusiasm for CS.\",\n",
    "    \"I took AP CS in high school and absolutely sucked at it but still managed to do well in this class. There are weekly coding assignments, which are pretty hard, but there are also a lot of office hours to help you. The 2 exams are much easier than the assignments so as long as you understand the basic concepts you should be fine. Overall great class!\",\n",
    "    \"Really great introductory course for CS.\",\n",
    "    \"This course did a really good job of going over the fundamentals of CS and helping me understand the things I need to do to succeed in a CS class. I really appreciated how supportive Professor Sood and the peer mentors are, as they helped me think about my code from different perspectives, and were always there to answer questions. I didn't find the exercises to be too long especially if you go to the peer mentors. I really enjoyed the class.\",\n",
    "    \"Gets significantly harder about halfway through. Not a good class to take if just looking for an easy A; take 110 instead. Exams are a lot easier than exercises, but still difficult.\",\n",
    "    \"This class is pretty easy to get an A in. Just watch the videos and fully understand them before applying them in the projects. If you don't mess up the weekly projects and don't lose points for silly reasons, you can do pretty bad on the exams and it won't really affect your grade.\",\n",
    "    \"The flipped classroom structure meant a lot of work outside of lecture, but was overall not the most work ever. Sara is very structured and every assignment is clear.\",\n",
    "    \"It was really good.\",\n",
    "    \"111 is a good introduction to programming in my eyes. Although the class is in Racket which is undoubtedly a bit silly, Sood and the rest of the class were great in teaching and helping develop the CS mindset.\",\n",
    "    \"Very easy class. I didn't spend much time on it and the tests were very easy. There is class participation every day, so you have to go to class.\",\n",
    "    \"Racket is annoying, but Sara and the TAs are great! Would definitely recommend going to TA office hours if you got confused by some questions/concepts.\",\n",
    "    \"As someone with computer science experience, this course is so easy that I felt I got very little from it. Starting from scratch makes sense conceptually, but I wish the course had provided more opportunities to stretch our knowledge in more creative ways. I really appreciate Sara and the TAs for their helpfulness and ingenuity, but I think I could have gained so much more from this class with a few tweaks.\",\n",
    "    \"This was an excellent introductory CS course. Prof Sood is the best and structures the class very well. Exercises and assessments are very reasonable. Class is swarmed with peer mentors who are super helpful and also friendly.\",\n",
    "    \"Flipped classroom so you have to get good at remembering to watch the video lectures.\",\n",
    "    \"Awesome course, I didn't do very well but it was my first CS class and so fun and well taught.\",\n",
    "    \"I enjoyed this course. It is a flipped class, and it was really helpful to have peer mentors help us through all of the assignments and worksheets.\"]"
   ]
  },
  {
   "cell_type": "code",
   "execution_count": 20,
   "metadata": {},
   "outputs": [],
   "source": [
    "responses.append(\"Racket is extremely annoying. However, it does do a decent job of teaching basic coding concepts and I don't regret taking this class. The best way to succeed in this class is to really check your work on every single exercise, and rewatch the module videos when you get stuck. Overall, not bad or time consuming.\")"
   ]
  },
  {
   "cell_type": "code",
   "execution_count": 21,
   "metadata": {},
   "outputs": [],
   "source": [
    "responses.append(\"LOVE SOOD!!!! She is the best professor! I loved this class so much and I had never been interested in comp sci or taken anything related to it. It was so fun learning something so different from the classes that I normally take (STEM + Humanities). The layout of this class was really awesome– you watch lecture videos on your own and take mini quizzes (1–3 questions super easy) and then in class, you collaborate with other students, Sood goes over topics, TAs help, etc. There are office hours at every second of the day in the week so it's really easy to get help. The exercises/assignments are 40% of your grade and I got a 100 on every single one (easy bc you can just get help if you don't know)– this is the class I did work for when I was procrastinating for my other classes. I enjoyed this class, it's an easy A, and the TAs and Sood are amazing. TAKE THIS CLASS!!!\")"
   ]
  },
  {
   "cell_type": "code",
   "execution_count": 22,
   "metadata": {},
   "outputs": [],
   "source": [
    "responses.append(\"Exactly what I needed in an introductory CS class. Prof. Sood was great at presenting topics in an approachable way. Pace of covering material was perfect, sped up a little near the end but nothing unreasonable.\")"
   ]
  },
  {
   "cell_type": "code",
   "execution_count": 23,
   "metadata": {},
   "outputs": [],
   "source": [
    "responses.append(\"Prof. Sood is a good lecturer and genuinely cares about her students. The course is also well designed in the sense that it does a good job at teaching the content. That being said, I have a few critiques. Firstly, the amount of things this class makes you do outside of lecture time is annoying at best and overwhelming at worst. Not only are there weekly homework assignments, but often you have to watch a pre–recorded lecture on your own time (ranging from 10 to 40 minutes) BEFORE class starts. Second, the ethics assignments were pretty useless. The TA tried her hardest to spur discussion, but no one really wanted to be there and the whole thing seems like a waste of time. All that being said, if you have coding experience in any object–oriented language, you will cruise through this class after you get the initial hang of the Dr.Racket syntax and functional coding paradigm.\")"
   ]
  },
  {
   "cell_type": "code",
   "execution_count": 25,
   "metadata": {},
   "outputs": [],
   "source": [
    "temp = [\"Professor and TAs are wonderful. Class is a little difficult, especially considering it's an intro class that requires no prior experience, however it is definitely doable and you get a lot of in class support.\",\n",
    " 'The flipped discussion and lecture format of the class allowed me to learn at my own pace',\n",
    " 'As I had no prior experience with computer science, this class was a great introduction. I enjoyed learning Racket and this course sparked my interest in majoring in CS.',\n",
    " 'Professor Sood was amazing and I would highly recommend taking this class with her. She essentially uses a flipped classroom style, where we watch a few videos about each topic before class and then class time is used to work on homework assignments, which is incredibly helpful.',\n",
    " \"great class! sood is amazing. class is super chill and yet you learn a lot; best time to learning ratios I've ever had for a class at NU.\",\n",
    " 'Straightforward course. All lectures are recorded on Canvas and attendance is still graded, but they give tips for the assignments sometimes in class and you can get TA help. I had experience coming into this course but still feel like I learned some new things, especially towards the end when you start seeing the building blocks that more advanced beginner languages like java and python derive from languages similar to Racket.',\n",
    " \"This course was pretty challenging–– I had never taken a computer science course before. Racket just isn't the most intuitive language, and combined with the flipped–classroom teaching style (we'd watch the lecture videos on our own time, and work on assignments during class time), it was difficult to learn. Office hours are extremely helpful though, because the PMs are always willing to help!\",\n",
    " 'Prof Sood is very very nice. They have put in a lot of effort into developing this course.',\n",
    " \"However, I disagree highly with the whole CS department for having this course being taught in racket. They try very very hard to explain why its important but talking to a lot of seniors and applications itself, I see no point in this course. On top of that, as someone from non CS major for whom this specific class is a requirement, it was not the best use of time learning something I am definitely not gonna use. All most highly ranked institutions all got rid of Racket way back, I don't understand northwestern still sticking to it in a freshman class. I believe a lot of CS principles can be taught from python as well, which I intend to take in summer from ocw. I believe both the students and the department will benefit by fixing this fundamental flaw.\",\n",
    " 'Fantastic class! I would recommend taking this class with Professor Sood. She is very good at explaining things and very organized. I think her most redeeming quality as an instructor, however, is her ability to make everyone in the class feel included. She emphasizes this idea from day 1 and it makes a serious impact on the culture in the medium size lecture class.',\n",
    " 'this class is pretty chill, but you still learn a lot if you do the work',\n",
    " \"Drracket is kinda weird but not too annoying, and it gives you a good handle on coding. Sarah starts the class off with the assumption that nobody's coding before, which is helpful. The exercises made sense and the homework/mini quizzes kept me on track in the course.\",\n",
    " \"Having transferred and taken intro CS classes at my first school I felt that Racket was a significant downgrade, and frankly made my life more difficult than I felt it needed to be. The assignments aren't anything awful and the topics covered are very prominent topics in coding, but I still feel the course is significantly less impactful than it should be because of the language.\",\n",
    " 'We learned the easiest examples only to be met with intentionally tricky questions on the exam. What a waste of time.',\n",
    " 'I really enjoyed the organization of this course. my only criticism is having to do exercise 8 lol. learning hash is kind annoying tbh',\n",
    " 'This course was really hard. If you have the choice I suggest you take 110 over 111. The professor was amazing and helpful but the class itself was super difficult and time–consuming.',\n",
    " \"Really liked the flipped classroom format, gave me a lot of flexibility. I can choose to do remote work submission so I don't really need to go to class. 2 Midterms are fair. Sara is really good at explaining new concepts.\",\n",
    " \"I am relatively new to computer science and thought this course was difficult. HOWEVER, there is so much help provided that overall, the workload and assignments were completely manageable. The class is taught flipped style, meaning you watch the lecture and then do an activity in class. Though this is an effective way to learn for some, it just wasn't for me. It was so much easier to get distracted watching a lecture alone and I would have preferred learning racket in a lecture style (in a classroom) where I am already used to focusing. As for the workload, there is one assignment every week, 2–3 mini quizzes (which are very simple and you get to use notes), watching the lectures, ethics reflections (you will do 3), and two midterms. The workload is not bad but if you are not the best at CS, go to office hours! There are so many provided and they will help you get through some of the tougher assignments. Overall, a good, but challenging, introductory course.\",\n",
    " 'this course was really good! Not very challenging, but I still learned a good amount, and the exams were perfect because they allowed you to stay engaged in the course material without being super challenging. the instructor is also great, and very helpful',\n",
    " 'If you know how to code class is pretty straightforward',\n",
    " 'I dont find racket in general very helpful, however, the instruction was very well done and the exams were not too hard.',\n",
    " 'I never took a computer science class before this one, but I love how Sara teaches this course using flipped learning. The exercises are entertaining and the exams can be graded leniently with partial credit and are not worth as much as you think. Sara is really good at making sure the assignments prepare students but also to encourage students to take care of themselves.',\n",
    " \"This is a great course, despite the unfamiliarity of Racket as a language. The class starts out fundamental, and the difficulty increases relatively quickly. HOWEVER it's easy to succeed and learn a lot because of the way the class is formatted: lectures are short videos watched outside of class, so the lecture section is just work time where you can ask for help from the professor or any of the peer advisors. Professor Sood is wonderful and super helpful, and the tests (midterm and final) are very doable. Overall I would very much recommend this course, and I had a much better time than a lot of my friends did with 110.\",\n",
    " 'This course is very well organized, interesting, and not overly time consuming. People like to not like Racket but I thought it was pretty interesting.',\n",
    " 'Good class. I feel like I learned fundamental concepts of computer programming, and I think Racket was a good language for this purpose. Professor Sood is a really good teacher and the homework assignments were challenging but helpful for learning.']"
   ]
  },
  {
   "cell_type": "code",
   "execution_count": 26,
   "metadata": {},
   "outputs": [],
   "source": [
    "for i in temp:\n",
    "    responses.append(temp)\n",
    "    "
   ]
  },
  {
   "cell_type": "code",
   "execution_count": 28,
   "metadata": {},
   "outputs": [],
   "source": [
    "df = pd.DataFrame(responses)"
   ]
  },
  {
   "cell_type": "code",
   "execution_count": 29,
   "metadata": {},
   "outputs": [
    {
     "data": {
      "text/plain": [
       "65"
      ]
     },
     "execution_count": 29,
     "metadata": {},
     "output_type": "execute_result"
    }
   ],
   "source": [
    "len(df)"
   ]
  },
  {
   "cell_type": "code",
   "execution_count": 30,
   "metadata": {},
   "outputs": [],
   "source": [
    "df.to_csv(\"sara_sood_cs111.csv\", index=False)"
   ]
  },
  {
   "cell_type": "markdown",
   "metadata": {},
   "source": [
    "FIREBASE STUFF"
   ]
  },
  {
   "cell_type": "code",
   "execution_count": 1,
   "metadata": {},
   "outputs": [
    {
     "data": {
      "text/plain": [
       "<firebase_admin.App at 0x1455aa01820>"
      ]
     },
     "execution_count": 1,
     "metadata": {},
     "output_type": "execute_result"
    }
   ],
   "source": [
    "import firebase_admin\n",
    "from firebase_admin import credentials, db\n",
    "\n",
    "# Initialize Firebase\n",
    "cred = credentials.Certificate(r\"C:\\Users\\mhenr\\Downloads\\ctec-snap-firebase-adminsdk-x90z8-ac3e68052c.json\")\n",
    "firebase_admin.initialize_app(cred, {'databaseURL':'https://ctec-snap-default-rtdb.firebaseio.com'})\n",
    "\n",
    "# Get a reference to the database\n",
    "\n",
    "# Add data\n",
    "# ref.child(\"users\").child(\"user1\").set({\n",
    "#     \"name\": \"John Doe\",\n",
    "#     \"age\": 30,\n",
    "#     \"city\": \"New York\"\n",
    "# })\n",
    "\n",
    "# print(ref)"
   ]
  },
  {
   "cell_type": "code",
   "execution_count": 6,
   "metadata": {},
   "outputs": [],
   "source": [
    "ref = db.reference(\"CS/ConnorBain\")\n"
   ]
  },
  {
   "cell_type": "code",
   "execution_count": 13,
   "metadata": {},
   "outputs": [],
   "source": [
    "bain = pd.read_csv(r\"C:\\Users\\mhenr\\Documents\\Github\\ctec-bot\\testing\\bain_cs111.csv\")"
   ]
  },
  {
   "cell_type": "code",
   "execution_count": 16,
   "metadata": {},
   "outputs": [
    {
     "data": {
      "text/html": [
       "<div>\n",
       "<style scoped>\n",
       "    .dataframe tbody tr th:only-of-type {\n",
       "        vertical-align: middle;\n",
       "    }\n",
       "\n",
       "    .dataframe tbody tr th {\n",
       "        vertical-align: top;\n",
       "    }\n",
       "\n",
       "    .dataframe thead th {\n",
       "        text-align: right;\n",
       "    }\n",
       "</style>\n",
       "<table border=\"1\" class=\"dataframe\">\n",
       "  <thead>\n",
       "    <tr style=\"text-align: right;\">\n",
       "      <th></th>\n",
       "      <th>Responses</th>\n",
       "    </tr>\n",
       "  </thead>\n",
       "  <tbody>\n",
       "    <tr>\n",
       "      <th>0</th>\n",
       "      <td>This course was a fun course with interesting ...</td>\n",
       "    </tr>\n",
       "    <tr>\n",
       "      <th>1</th>\n",
       "      <td>CS 111 is a good introductory CS course overal...</td>\n",
       "    </tr>\n",
       "    <tr>\n",
       "      <th>2</th>\n",
       "      <td>This class is a great intro class for anyone w...</td>\n",
       "    </tr>\n",
       "    <tr>\n",
       "      <th>3</th>\n",
       "      <td>I thought this class was going to be an easy A...</td>\n",
       "    </tr>\n",
       "    <tr>\n",
       "      <th>4</th>\n",
       "      <td>I thought that this course was overall pretty ...</td>\n",
       "    </tr>\n",
       "    <tr>\n",
       "      <th>5</th>\n",
       "      <td>I think Bain is a great teacher, and this woul...</td>\n",
       "    </tr>\n",
       "    <tr>\n",
       "      <th>6</th>\n",
       "      <td>pros – Highly recommend Prof Bain though, as h...</td>\n",
       "    </tr>\n",
       "    <tr>\n",
       "      <th>7</th>\n",
       "      <td>cons – Racket is a pretty annoying language to...</td>\n",
       "    </tr>\n",
       "    <tr>\n",
       "      <th>8</th>\n",
       "      <td>The course was definitely challenging especial...</td>\n",
       "    </tr>\n",
       "    <tr>\n",
       "      <th>9</th>\n",
       "      <td>While Racket is not really used that much the ...</td>\n",
       "    </tr>\n",
       "    <tr>\n",
       "      <th>10</th>\n",
       "      <td>Great class. Connor Bain is an excellent teach...</td>\n",
       "    </tr>\n",
       "    <tr>\n",
       "      <th>11</th>\n",
       "      <td>Having significant prior coding experience, I ...</td>\n",
       "    </tr>\n",
       "    <tr>\n",
       "      <th>12</th>\n",
       "      <td>Only take this class if you need to – if you a...</td>\n",
       "    </tr>\n",
       "    <tr>\n",
       "      <th>13</th>\n",
       "      <td>Good review of the ideas relevant to learning ...</td>\n",
       "    </tr>\n",
       "    <tr>\n",
       "      <th>14</th>\n",
       "      <td>Prof. Bain is simply an icon. A lot of people ...</td>\n",
       "    </tr>\n",
       "    <tr>\n",
       "      <th>15</th>\n",
       "      <td>Overall, the course is sufficient in teaching ...</td>\n",
       "    </tr>\n",
       "    <tr>\n",
       "      <th>16</th>\n",
       "      <td>I thought racket was a little bit weird, and t...</td>\n",
       "    </tr>\n",
       "    <tr>\n",
       "      <th>17</th>\n",
       "      <td>Really chill class, lots of accommodation pres...</td>\n",
       "    </tr>\n",
       "    <tr>\n",
       "      <th>18</th>\n",
       "      <td>The aspect that was most important to me was r...</td>\n",
       "    </tr>\n",
       "    <tr>\n",
       "      <th>19</th>\n",
       "      <td>The professor is great. It is obvious he reall...</td>\n",
       "    </tr>\n",
       "    <tr>\n",
       "      <th>20</th>\n",
       "      <td>THIS CTEC IS FOR STUDENTS WHO ARE CONSIDERING ...</td>\n",
       "    </tr>\n",
       "    <tr>\n",
       "      <th>21</th>\n",
       "      <td>Most of the teaching was through slides which ...</td>\n",
       "    </tr>\n",
       "    <tr>\n",
       "      <th>22</th>\n",
       "      <td>the course is very doable and catering towards...</td>\n",
       "    </tr>\n",
       "    <tr>\n",
       "      <th>23</th>\n",
       "      <td>this is a very difficult class if you are new ...</td>\n",
       "    </tr>\n",
       "    <tr>\n",
       "      <th>24</th>\n",
       "      <td>The pace of the course is a bit surprisingly q...</td>\n",
       "    </tr>\n",
       "    <tr>\n",
       "      <th>25</th>\n",
       "      <td>Not too bad. Dr. Racket's annoying but Bain's ...</td>\n",
       "    </tr>\n",
       "    <tr>\n",
       "      <th>26</th>\n",
       "      <td>My only gripe with this class is that the clas...</td>\n",
       "    </tr>\n",
       "  </tbody>\n",
       "</table>\n",
       "</div>"
      ],
      "text/plain": [
       "                                            Responses\n",
       "0   This course was a fun course with interesting ...\n",
       "1   CS 111 is a good introductory CS course overal...\n",
       "2   This class is a great intro class for anyone w...\n",
       "3   I thought this class was going to be an easy A...\n",
       "4   I thought that this course was overall pretty ...\n",
       "5   I think Bain is a great teacher, and this woul...\n",
       "6   pros – Highly recommend Prof Bain though, as h...\n",
       "7   cons – Racket is a pretty annoying language to...\n",
       "8   The course was definitely challenging especial...\n",
       "9   While Racket is not really used that much the ...\n",
       "10  Great class. Connor Bain is an excellent teach...\n",
       "11  Having significant prior coding experience, I ...\n",
       "12  Only take this class if you need to – if you a...\n",
       "13  Good review of the ideas relevant to learning ...\n",
       "14  Prof. Bain is simply an icon. A lot of people ...\n",
       "15  Overall, the course is sufficient in teaching ...\n",
       "16  I thought racket was a little bit weird, and t...\n",
       "17  Really chill class, lots of accommodation pres...\n",
       "18  The aspect that was most important to me was r...\n",
       "19  The professor is great. It is obvious he reall...\n",
       "20  THIS CTEC IS FOR STUDENTS WHO ARE CONSIDERING ...\n",
       "21  Most of the teaching was through slides which ...\n",
       "22  the course is very doable and catering towards...\n",
       "23  this is a very difficult class if you are new ...\n",
       "24  The pace of the course is a bit surprisingly q...\n",
       "25  Not too bad. Dr. Racket's annoying but Bain's ...\n",
       "26  My only gripe with this class is that the clas..."
      ]
     },
     "execution_count": 16,
     "metadata": {},
     "output_type": "execute_result"
    }
   ],
   "source": [
    "bain"
   ]
  },
  {
   "cell_type": "code",
   "execution_count": 19,
   "metadata": {},
   "outputs": [
    {
     "data": {
      "text/plain": [
       "['This course was a fun course with interesting activities, it just needs to be taught in python or C instead of racket.',\n",
       " \"CS 111 is a good introductory CS course overall. I had some coding experience from AP CSA in high school and thought the course was not bad at all. However, I believe that I found the course to not be that bad because of my previous programming experience, and using Racket (which is the language used in 111) as a first–time coder would be hard because of the language's syntax. Q2 was definitely the most difficult quiz, as it covers topics like recursion and binary trees, but besides that the quizzes are not bad.\",\n",
       " \"This class is a great intro class for anyone who's interested in learning the foundations for any programming language/more advanced CS topics beyond Racket. Connor Bain is a great prof, and you can tell he's genuinely engaged with the material and wants the students to have fun learning. However, the only drawback was that the pacing was a little skewed – the course started off relatively easy–going but really ramped up after week 2, so complete beginners to CS might have some trouble adjusting.\",\n",
       " \"I thought this class was going to be an easy A, but I ended with a B+. I was surprised to get a 54% on the last quiz which was worth 13.3% of my grade, and the answers were not posted afterwards, nor the info about the mean and median scores. The workload for this class is definitely manageable, but there weren't many good resources for preparing for assessments compared to my other classes. Sometimes Professor Bain's slideshows felt too advanced, using words whose definitions had not been established previously in the class.\",\n",
       " 'I thought that this course was overall pretty good. The homework was mostly manageable, except the snake game they have you do is actually pretty difficult. I wish they gave more material to practice with though.',\n",
       " \"I think Bain is a great teacher, and this would be a great class for someone with little coding experience. However, it is pretty frustrating for someone with experience, because it is designed to start from the very basics. Racket is also pretty annoying and unlike 'real' coding languages, and definitely took some getting used to. However, the grading is very forgiving, so this class is an easy A.\",\n",
       " \"pros – Highly recommend Prof Bain though, as he makes the classes funny and engaging. I'm one for dorky nerdy jokes and this class was full of it. Good slides and variety in his teaching methods. Grading for quizzes is lenient, and tutorials, mini quizzes and exercises are fairly easy to score in as long as you attend class. 10/10 prof\",\n",
       " 'cons – Racket is a pretty annoying language to learn if you have programming experience with other more mainstream languages. It gets confusing real quick when functions get longer.',\n",
       " 'The course was definitely challenging especially due to the obscurity of Dr.Racket as a language, but Professor Bain did a great job of teaching the class overall.',\n",
       " 'While Racket is not really used that much the course content was still helpful nonetheless. It taught me the fundamentals of how to code and debug code and also I appreciated that we were encouraged to ask for help from peers and get feedback on our code.',\n",
       " 'Great class. Connor Bain is an excellent teacher. You learn a lot and the class is very easy overall.',\n",
       " 'Having significant prior coding experience, I found this class to be very easy. The instruction is not bad. This course is taught in a coding language called Dr. Racket which has extremely unique (in a bad way) syntax which makes coding a headache. Presumably, this is done to level the playing field between people who are new to coding and people who have prior experience, though I did not find this to be the case personally – the use of Dr. Racket just makes everything more confusing for everyone.',\n",
       " 'Only take this class if you need to – if you are just looking to learn CS because you want some knowledge in this technology dominated world, learn python and take CS 110.',\n",
       " \"Good review of the ideas relevant to learning & understanding how to program. Racket syntax was a bit challenging at times, but prior coding experience should make this an easy A. From what I've heard, not having prior experience makes this class a bit difficult, but still manageable—overall, a nice intro to CS.\",\n",
       " \"Prof. Bain is simply an icon. A lot of people don't like this class because it's taught in Racket, but as someone who had no programming experience coming in, I didn't have any issues with it. Lectures are organized and you don't have to take notes because the slides are always posted. The professor is super well–spoken, and considering how big the class is, I felt pretty engaged most of the time. Exercises sometimes took a while to figure out but were very helpful for putting class material into practice.\",\n",
       " \"Overall, the course is sufficient in teaching the basics of how to code, but the quizzes are hard to do well on, because it's so easy to make mistakes.\",\n",
       " \"I thought racket was a little bit weird, and the programming was definitely a lot different than other programming experience I've had. However, I think definitely with some work it can definitely all make sense.\",\n",
       " \"Really chill class, lots of accommodation present if you're ever sick or can't make it to a class but in a way that prevents you from falling behind. Had fun with some of the assignments and nothing was ever unreasonably difficult.\",\n",
       " 'The aspect that was most important to me was recursion. I appreciated the strong emphasis on this topic and the substitution model that was used to represent how recursion works.',\n",
       " \"The professor is great. It is obvious he really likes teaching and cs, and you can see all the effort that was put into all the course materials. There is a lot of academic support available: from office hours to Ed discussions. I didn't have any coding experience before this course, and I found it very manageable. There is a lot of practice built in in the course schedule (exercises + tutorials), which makes it easier to learn the material and makes the course more fun. Except the four main quizzes...\",\n",
       " 'THIS CTEC IS FOR STUDENTS WHO ARE CONSIDERING THIS COURSE WITH LITTLE TO NO KNOWLEDGE OF CODING: This course gives a lot of padding to your grade. Most of the grades you get are given based on completion as long as you are in attendance of class. You also complete one exercise a week which can be intellectually challenging, but most people always receive full points. Many people say this is an easy class, and yes, this class has enough padding that as long as you do the work (which is minimal), you will pass the class.',\n",
       " \"Most of the teaching was through slides which I thought wasn't very effective for me. Make sure to try problems in Racket yourself to get how everything works. Utilize tutorial time and edSTEM – it was super helpful in understanding the concepts and made the homework assignments less frustrating.\",\n",
       " 'the course is very doable and catering towards beginners.',\n",
       " \"this is a very difficult class if you are new to coding. I thought I would be fine because I have a strong STEM/math background, but I had a really hard time. Connor is great though and he did a lot to help me succeed. Definitely go to office hours, definitely go to the review sessions, definitely work with your friends on the exercises. Not an easy A, but definitely not impossible. If you're nervous and deciding between 110 and 111, I would go with 110.\",\n",
       " 'The pace of the course is a bit surprisingly quick to me (as a person who knew literally nothing about Python and Racket), and we were already talking about recursions in the second unit of the course. And many people in this class do come in with abundant experiences in coding. The exams are pretty straightforward, and the exercises are reasonably challenging. I personally believe that this course will be quite difficult for a person without much experience with coding.',\n",
       " \"Not too bad. Dr. Racket's annoying but Bain's a cool guy and the course is nothing you can't handle.\",\n",
       " 'My only gripe with this class is that the class tries to accommodate for a wide skill range. People with 2–3 years of coding experience are required to take this class while people with no coding experience are also required to take this class.']"
      ]
     },
     "execution_count": 19,
     "metadata": {},
     "output_type": "execute_result"
    }
   ],
   "source": []
  },
  {
   "cell_type": "code",
   "execution_count": 20,
   "metadata": {},
   "outputs": [
    {
     "data": {
      "text/plain": [
       "27"
      ]
     },
     "execution_count": 20,
     "metadata": {},
     "output_type": "execute_result"
    }
   ],
   "source": [
    "len(list(bain[\"Responses\"]))"
   ]
  },
  {
   "cell_type": "code",
   "execution_count": 22,
   "metadata": {},
   "outputs": [],
   "source": [
    "d = {\"Responses\" : list(bain[\"Responses\"])}\n"
   ]
  },
  {
   "cell_type": "code",
   "execution_count": 23,
   "metadata": {},
   "outputs": [],
   "source": [
    "import json\n",
    "\n",
    "bain_json = json.dumps(d)"
   ]
  },
  {
   "cell_type": "code",
   "execution_count": 25,
   "metadata": {},
   "outputs": [],
   "source": [
    "with open(\"bain_cs111.json\", \"w\") as outfile:\n",
    "    outfile.write(bain_json)"
   ]
  },
  {
   "cell_type": "code",
   "execution_count": 17,
   "metadata": {},
   "outputs": [
    {
     "ename": "ValueError",
     "evalue": "Invalid value 'Responses' for option 'orient'",
     "output_type": "error",
     "traceback": [
      "\u001b[1;31m---------------------------------------------------------------------------\u001b[0m",
      "\u001b[1;31mValueError\u001b[0m                                Traceback (most recent call last)",
      "Cell \u001b[1;32mIn[17], line 1\u001b[0m\n\u001b[1;32m----> 1\u001b[0m json_result \u001b[38;5;241m=\u001b[39m \u001b[43mbain\u001b[49m\u001b[38;5;241;43m.\u001b[39;49m\u001b[43mto_json\u001b[49m\u001b[43m(\u001b[49m\u001b[43mindex\u001b[49m\u001b[38;5;241;43m=\u001b[39;49m\u001b[38;5;28;43;01mFalse\u001b[39;49;00m\u001b[43m,\u001b[49m\u001b[43m \u001b[49m\u001b[43morient\u001b[49m\u001b[38;5;241;43m=\u001b[39;49m\u001b[38;5;124;43m\"\u001b[39;49m\u001b[38;5;124;43mResponses\u001b[39;49m\u001b[38;5;124;43m\"\u001b[39;49m\u001b[43m)\u001b[49m\n",
      "File \u001b[1;32mc:\\Users\\mhenr\\AppData\\Local\\Programs\\Python\\Python312\\Lib\\site-packages\\pandas\\util\\_decorators.py:333\u001b[0m, in \u001b[0;36mdeprecate_nonkeyword_arguments.<locals>.decorate.<locals>.wrapper\u001b[1;34m(*args, **kwargs)\u001b[0m\n\u001b[0;32m    327\u001b[0m \u001b[38;5;28;01mif\u001b[39;00m \u001b[38;5;28mlen\u001b[39m(args) \u001b[38;5;241m>\u001b[39m num_allow_args:\n\u001b[0;32m    328\u001b[0m     warnings\u001b[38;5;241m.\u001b[39mwarn(\n\u001b[0;32m    329\u001b[0m         msg\u001b[38;5;241m.\u001b[39mformat(arguments\u001b[38;5;241m=\u001b[39m_format_argument_list(allow_args)),\n\u001b[0;32m    330\u001b[0m         \u001b[38;5;167;01mFutureWarning\u001b[39;00m,\n\u001b[0;32m    331\u001b[0m         stacklevel\u001b[38;5;241m=\u001b[39mfind_stack_level(),\n\u001b[0;32m    332\u001b[0m     )\n\u001b[1;32m--> 333\u001b[0m \u001b[38;5;28;01mreturn\u001b[39;00m \u001b[43mfunc\u001b[49m\u001b[43m(\u001b[49m\u001b[38;5;241;43m*\u001b[39;49m\u001b[43margs\u001b[49m\u001b[43m,\u001b[49m\u001b[43m \u001b[49m\u001b[38;5;241;43m*\u001b[39;49m\u001b[38;5;241;43m*\u001b[39;49m\u001b[43mkwargs\u001b[49m\u001b[43m)\u001b[49m\n",
      "File \u001b[1;32mc:\\Users\\mhenr\\AppData\\Local\\Programs\\Python\\Python312\\Lib\\site-packages\\pandas\\core\\generic.py:2702\u001b[0m, in \u001b[0;36mNDFrame.to_json\u001b[1;34m(self, path_or_buf, orient, date_format, double_precision, force_ascii, date_unit, default_handler, lines, compression, index, indent, storage_options, mode)\u001b[0m\n\u001b[0;32m   2699\u001b[0m config\u001b[38;5;241m.\u001b[39mis_nonnegative_int(indent)\n\u001b[0;32m   2700\u001b[0m indent \u001b[38;5;241m=\u001b[39m indent \u001b[38;5;129;01mor\u001b[39;00m \u001b[38;5;241m0\u001b[39m\n\u001b[1;32m-> 2702\u001b[0m \u001b[38;5;28;01mreturn\u001b[39;00m \u001b[43mjson\u001b[49m\u001b[38;5;241;43m.\u001b[39;49m\u001b[43mto_json\u001b[49m\u001b[43m(\u001b[49m\n\u001b[0;32m   2703\u001b[0m \u001b[43m    \u001b[49m\u001b[43mpath_or_buf\u001b[49m\u001b[38;5;241;43m=\u001b[39;49m\u001b[43mpath_or_buf\u001b[49m\u001b[43m,\u001b[49m\n\u001b[0;32m   2704\u001b[0m \u001b[43m    \u001b[49m\u001b[43mobj\u001b[49m\u001b[38;5;241;43m=\u001b[39;49m\u001b[38;5;28;43mself\u001b[39;49m\u001b[43m,\u001b[49m\n\u001b[0;32m   2705\u001b[0m \u001b[43m    \u001b[49m\u001b[43morient\u001b[49m\u001b[38;5;241;43m=\u001b[39;49m\u001b[43morient\u001b[49m\u001b[43m,\u001b[49m\n\u001b[0;32m   2706\u001b[0m \u001b[43m    \u001b[49m\u001b[43mdate_format\u001b[49m\u001b[38;5;241;43m=\u001b[39;49m\u001b[43mdate_format\u001b[49m\u001b[43m,\u001b[49m\n\u001b[0;32m   2707\u001b[0m \u001b[43m    \u001b[49m\u001b[43mdouble_precision\u001b[49m\u001b[38;5;241;43m=\u001b[39;49m\u001b[43mdouble_precision\u001b[49m\u001b[43m,\u001b[49m\n\u001b[0;32m   2708\u001b[0m \u001b[43m    \u001b[49m\u001b[43mforce_ascii\u001b[49m\u001b[38;5;241;43m=\u001b[39;49m\u001b[43mforce_ascii\u001b[49m\u001b[43m,\u001b[49m\n\u001b[0;32m   2709\u001b[0m \u001b[43m    \u001b[49m\u001b[43mdate_unit\u001b[49m\u001b[38;5;241;43m=\u001b[39;49m\u001b[43mdate_unit\u001b[49m\u001b[43m,\u001b[49m\n\u001b[0;32m   2710\u001b[0m \u001b[43m    \u001b[49m\u001b[43mdefault_handler\u001b[49m\u001b[38;5;241;43m=\u001b[39;49m\u001b[43mdefault_handler\u001b[49m\u001b[43m,\u001b[49m\n\u001b[0;32m   2711\u001b[0m \u001b[43m    \u001b[49m\u001b[43mlines\u001b[49m\u001b[38;5;241;43m=\u001b[39;49m\u001b[43mlines\u001b[49m\u001b[43m,\u001b[49m\n\u001b[0;32m   2712\u001b[0m \u001b[43m    \u001b[49m\u001b[43mcompression\u001b[49m\u001b[38;5;241;43m=\u001b[39;49m\u001b[43mcompression\u001b[49m\u001b[43m,\u001b[49m\n\u001b[0;32m   2713\u001b[0m \u001b[43m    \u001b[49m\u001b[43mindex\u001b[49m\u001b[38;5;241;43m=\u001b[39;49m\u001b[43mindex\u001b[49m\u001b[43m,\u001b[49m\n\u001b[0;32m   2714\u001b[0m \u001b[43m    \u001b[49m\u001b[43mindent\u001b[49m\u001b[38;5;241;43m=\u001b[39;49m\u001b[43mindent\u001b[49m\u001b[43m,\u001b[49m\n\u001b[0;32m   2715\u001b[0m \u001b[43m    \u001b[49m\u001b[43mstorage_options\u001b[49m\u001b[38;5;241;43m=\u001b[39;49m\u001b[43mstorage_options\u001b[49m\u001b[43m,\u001b[49m\n\u001b[0;32m   2716\u001b[0m \u001b[43m    \u001b[49m\u001b[43mmode\u001b[49m\u001b[38;5;241;43m=\u001b[39;49m\u001b[43mmode\u001b[49m\u001b[43m,\u001b[49m\n\u001b[0;32m   2717\u001b[0m \u001b[43m\u001b[49m\u001b[43m)\u001b[49m\n",
      "File \u001b[1;32mc:\\Users\\mhenr\\AppData\\Local\\Programs\\Python\\Python312\\Lib\\site-packages\\pandas\\io\\json\\_json.py:210\u001b[0m, in \u001b[0;36mto_json\u001b[1;34m(path_or_buf, obj, orient, date_format, double_precision, force_ascii, date_unit, default_handler, lines, compression, index, indent, storage_options, mode)\u001b[0m\n\u001b[0;32m    197\u001b[0m \u001b[38;5;28;01melse\u001b[39;00m:\n\u001b[0;32m    198\u001b[0m     \u001b[38;5;28;01mraise\u001b[39;00m \u001b[38;5;167;01mNotImplementedError\u001b[39;00m(\u001b[38;5;124m\"\u001b[39m\u001b[38;5;124m'\u001b[39m\u001b[38;5;124mobj\u001b[39m\u001b[38;5;124m'\u001b[39m\u001b[38;5;124m should be a Series or a DataFrame\u001b[39m\u001b[38;5;124m\"\u001b[39m)\n\u001b[0;32m    200\u001b[0m s \u001b[38;5;241m=\u001b[39m \u001b[43mwriter\u001b[49m\u001b[43m(\u001b[49m\n\u001b[0;32m    201\u001b[0m \u001b[43m    \u001b[49m\u001b[43mobj\u001b[49m\u001b[43m,\u001b[49m\n\u001b[0;32m    202\u001b[0m \u001b[43m    \u001b[49m\u001b[43morient\u001b[49m\u001b[38;5;241;43m=\u001b[39;49m\u001b[43morient\u001b[49m\u001b[43m,\u001b[49m\n\u001b[0;32m    203\u001b[0m \u001b[43m    \u001b[49m\u001b[43mdate_format\u001b[49m\u001b[38;5;241;43m=\u001b[39;49m\u001b[43mdate_format\u001b[49m\u001b[43m,\u001b[49m\n\u001b[0;32m    204\u001b[0m \u001b[43m    \u001b[49m\u001b[43mdouble_precision\u001b[49m\u001b[38;5;241;43m=\u001b[39;49m\u001b[43mdouble_precision\u001b[49m\u001b[43m,\u001b[49m\n\u001b[0;32m    205\u001b[0m \u001b[43m    \u001b[49m\u001b[43mensure_ascii\u001b[49m\u001b[38;5;241;43m=\u001b[39;49m\u001b[43mforce_ascii\u001b[49m\u001b[43m,\u001b[49m\n\u001b[0;32m    206\u001b[0m \u001b[43m    \u001b[49m\u001b[43mdate_unit\u001b[49m\u001b[38;5;241;43m=\u001b[39;49m\u001b[43mdate_unit\u001b[49m\u001b[43m,\u001b[49m\n\u001b[0;32m    207\u001b[0m \u001b[43m    \u001b[49m\u001b[43mdefault_handler\u001b[49m\u001b[38;5;241;43m=\u001b[39;49m\u001b[43mdefault_handler\u001b[49m\u001b[43m,\u001b[49m\n\u001b[0;32m    208\u001b[0m \u001b[43m    \u001b[49m\u001b[43mindex\u001b[49m\u001b[38;5;241;43m=\u001b[39;49m\u001b[43mindex\u001b[49m\u001b[43m,\u001b[49m\n\u001b[0;32m    209\u001b[0m \u001b[43m    \u001b[49m\u001b[43mindent\u001b[49m\u001b[38;5;241;43m=\u001b[39;49m\u001b[43mindent\u001b[49m\u001b[43m,\u001b[49m\n\u001b[1;32m--> 210\u001b[0m \u001b[43m\u001b[49m\u001b[43m)\u001b[49m\u001b[38;5;241;43m.\u001b[39;49m\u001b[43mwrite\u001b[49m\u001b[43m(\u001b[49m\u001b[43m)\u001b[49m\n\u001b[0;32m    212\u001b[0m \u001b[38;5;28;01mif\u001b[39;00m lines:\n\u001b[0;32m    213\u001b[0m     s \u001b[38;5;241m=\u001b[39m convert_to_line_delimits(s)\n",
      "File \u001b[1;32mc:\\Users\\mhenr\\AppData\\Local\\Programs\\Python\\Python312\\Lib\\site-packages\\pandas\\io\\json\\_json.py:263\u001b[0m, in \u001b[0;36mWriter.write\u001b[1;34m(self)\u001b[0m\n\u001b[0;32m    261\u001b[0m \u001b[38;5;28;01mdef\u001b[39;00m \u001b[38;5;21mwrite\u001b[39m(\u001b[38;5;28mself\u001b[39m) \u001b[38;5;241m-\u001b[39m\u001b[38;5;241m>\u001b[39m \u001b[38;5;28mstr\u001b[39m:\n\u001b[0;32m    262\u001b[0m     iso_dates \u001b[38;5;241m=\u001b[39m \u001b[38;5;28mself\u001b[39m\u001b[38;5;241m.\u001b[39mdate_format \u001b[38;5;241m==\u001b[39m \u001b[38;5;124m\"\u001b[39m\u001b[38;5;124miso\u001b[39m\u001b[38;5;124m\"\u001b[39m\n\u001b[1;32m--> 263\u001b[0m     \u001b[38;5;28;01mreturn\u001b[39;00m \u001b[43mujson_dumps\u001b[49m\u001b[43m(\u001b[49m\n\u001b[0;32m    264\u001b[0m \u001b[43m        \u001b[49m\u001b[38;5;28;43mself\u001b[39;49m\u001b[38;5;241;43m.\u001b[39;49m\u001b[43mobj_to_write\u001b[49m\u001b[43m,\u001b[49m\n\u001b[0;32m    265\u001b[0m \u001b[43m        \u001b[49m\u001b[43morient\u001b[49m\u001b[38;5;241;43m=\u001b[39;49m\u001b[38;5;28;43mself\u001b[39;49m\u001b[38;5;241;43m.\u001b[39;49m\u001b[43morient\u001b[49m\u001b[43m,\u001b[49m\n\u001b[0;32m    266\u001b[0m \u001b[43m        \u001b[49m\u001b[43mdouble_precision\u001b[49m\u001b[38;5;241;43m=\u001b[39;49m\u001b[38;5;28;43mself\u001b[39;49m\u001b[38;5;241;43m.\u001b[39;49m\u001b[43mdouble_precision\u001b[49m\u001b[43m,\u001b[49m\n\u001b[0;32m    267\u001b[0m \u001b[43m        \u001b[49m\u001b[43mensure_ascii\u001b[49m\u001b[38;5;241;43m=\u001b[39;49m\u001b[38;5;28;43mself\u001b[39;49m\u001b[38;5;241;43m.\u001b[39;49m\u001b[43mensure_ascii\u001b[49m\u001b[43m,\u001b[49m\n\u001b[0;32m    268\u001b[0m \u001b[43m        \u001b[49m\u001b[43mdate_unit\u001b[49m\u001b[38;5;241;43m=\u001b[39;49m\u001b[38;5;28;43mself\u001b[39;49m\u001b[38;5;241;43m.\u001b[39;49m\u001b[43mdate_unit\u001b[49m\u001b[43m,\u001b[49m\n\u001b[0;32m    269\u001b[0m \u001b[43m        \u001b[49m\u001b[43miso_dates\u001b[49m\u001b[38;5;241;43m=\u001b[39;49m\u001b[43miso_dates\u001b[49m\u001b[43m,\u001b[49m\n\u001b[0;32m    270\u001b[0m \u001b[43m        \u001b[49m\u001b[43mdefault_handler\u001b[49m\u001b[38;5;241;43m=\u001b[39;49m\u001b[38;5;28;43mself\u001b[39;49m\u001b[38;5;241;43m.\u001b[39;49m\u001b[43mdefault_handler\u001b[49m\u001b[43m,\u001b[49m\n\u001b[0;32m    271\u001b[0m \u001b[43m        \u001b[49m\u001b[43mindent\u001b[49m\u001b[38;5;241;43m=\u001b[39;49m\u001b[38;5;28;43mself\u001b[39;49m\u001b[38;5;241;43m.\u001b[39;49m\u001b[43mindent\u001b[49m\u001b[43m,\u001b[49m\n\u001b[0;32m    272\u001b[0m \u001b[43m    \u001b[49m\u001b[43m)\u001b[49m\n",
      "\u001b[1;31mValueError\u001b[0m: Invalid value 'Responses' for option 'orient'"
     ]
    }
   ],
   "source": [
    "json_result = bain.to_json(index=False, orient=\"Responses\")\n"
   ]
  },
  {
   "cell_type": "code",
   "execution_count": 15,
   "metadata": {},
   "outputs": [
    {
     "name": "stdout",
     "output_type": "stream",
     "text": [
      "{\"Responses\":{\"0\":\"This course was a fun course with interesting activities, it just needs to be taught in python or C instead of racket.\",\"1\":\"CS 111 is a good introductory CS course overall. I had some coding experience from AP CSA in high school and thought the course was not bad at all. However, I believe that I found the course to not be that bad because of my previous programming experience, and using Racket (which is the language used in 111) as a first\\u2013time coder would be hard because of the language's syntax. Q2 was definitely the most difficult quiz, as it covers topics like recursion and binary trees, but besides that the quizzes are not bad.\",\"2\":\"This class is a great intro class for anyone who's interested in learning the foundations for any programming language\\/more advanced CS topics beyond Racket. Connor Bain is a great prof, and you can tell he's genuinely engaged with the material and wants the students to have fun learning. However, the only drawback was that the pacing was a little skewed \\u2013 the course started off relatively easy\\u2013going but really ramped up after week 2, so complete beginners to CS might have some trouble adjusting.\",\"3\":\"I thought this class was going to be an easy A, but I ended with a B+. I was surprised to get a 54% on the last quiz which was worth 13.3% of my grade, and the answers were not posted afterwards, nor the info about the mean and median scores. The workload for this class is definitely manageable, but there weren't many good resources for preparing for assessments compared to my other classes. Sometimes Professor Bain's slideshows felt too advanced, using words whose definitions had not been established previously in the class.\",\"4\":\"I thought that this course was overall pretty good. The homework was mostly manageable, except the snake game they have you do is actually pretty difficult. I wish they gave more material to practice with though.\",\"5\":\"I think Bain is a great teacher, and this would be a great class for someone with little coding experience. However, it is pretty frustrating for someone with experience, because it is designed to start from the very basics. Racket is also pretty annoying and unlike 'real' coding languages, and definitely took some getting used to. However, the grading is very forgiving, so this class is an easy A.\",\"6\":\"pros \\u2013 Highly recommend Prof Bain though, as he makes the classes funny and engaging. I'm one for dorky nerdy jokes and this class was full of it. Good slides and variety in his teaching methods. Grading for quizzes is lenient, and tutorials, mini quizzes and exercises are fairly easy to score in as long as you attend class. 10\\/10 prof\",\"7\":\"cons \\u2013 Racket is a pretty annoying language to learn if you have programming experience with other more mainstream languages. It gets confusing real quick when functions get longer.\",\"8\":\"The course was definitely challenging especially due to the obscurity of Dr.Racket as a language, but Professor Bain did a great job of teaching the class overall.\",\"9\":\"While Racket is not really used that much the course content was still helpful nonetheless. It taught me the fundamentals of how to code and debug code and also I appreciated that we were encouraged to ask for help from peers and get feedback on our code.\",\"10\":\"Great class. Connor Bain is an excellent teacher. You learn a lot and the class is very easy overall.\",\"11\":\"Having significant prior coding experience, I found this class to be very easy. The instruction is not bad. This course is taught in a coding language called Dr. Racket which has extremely unique (in a bad way) syntax which makes coding a headache. Presumably, this is done to level the playing field between people who are new to coding and people who have prior experience, though I did not find this to be the case personally \\u2013 the use of Dr. Racket just makes everything more confusing for everyone.\",\"12\":\"Only take this class if you need to \\u2013 if you are just looking to learn CS because you want some knowledge in this technology dominated world, learn python and take CS 110.\",\"13\":\"Good review of the ideas relevant to learning & understanding how to program. Racket syntax was a bit challenging at times, but prior coding experience should make this an easy A. From what I've heard, not having prior experience makes this class a bit difficult, but still manageable\\u2014overall, a nice intro to CS.\",\"14\":\"Prof. Bain is simply an icon. A lot of people don't like this class because it's taught in Racket, but as someone who had no programming experience coming in, I didn't have any issues with it. Lectures are organized and you don't have to take notes because the slides are always posted. The professor is super well\\u2013spoken, and considering how big the class is, I felt pretty engaged most of the time. Exercises sometimes took a while to figure out but were very helpful for putting class material into practice.\",\"15\":\"Overall, the course is sufficient in teaching the basics of how to code, but the quizzes are hard to do well on, because it's so easy to make mistakes.\",\"16\":\"I thought racket was a little bit weird, and the programming was definitely a lot different than other programming experience I've had. However, I think definitely with some work it can definitely all make sense.\",\"17\":\"Really chill class, lots of accommodation present if you're ever sick or can't make it to a class but in a way that prevents you from falling behind. Had fun with some of the assignments and nothing was ever unreasonably difficult.\",\"18\":\"The aspect that was most important to me was recursion. I appreciated the strong emphasis on this topic and the substitution model that was used to represent how recursion works.\",\"19\":\"The professor is great. It is obvious he really likes teaching and cs, and you can see all the effort that was put into all the course materials. There is a lot of academic support available: from office hours to Ed discussions. I didn't have any coding experience before this course, and I found it very manageable. There is a lot of practice built in in the course schedule (exercises + tutorials), which makes it easier to learn the material and makes the course more fun. Except the four main quizzes...\",\"20\":\"THIS CTEC IS FOR STUDENTS WHO ARE CONSIDERING THIS COURSE WITH LITTLE TO NO KNOWLEDGE OF CODING: This course gives a lot of padding to your grade. Most of the grades you get are given based on completion as long as you are in attendance of class. You also complete one exercise a week which can be intellectually challenging, but most people always receive full points. Many people say this is an easy class, and yes, this class has enough padding that as long as you do the work (which is minimal), you will pass the class.\",\"21\":\"Most of the teaching was through slides which I thought wasn't very effective for me. Make sure to try problems in Racket yourself to get how everything works. Utilize tutorial time and edSTEM \\u2013 it was super helpful in understanding the concepts and made the homework assignments less frustrating.\",\"22\":\"the course is very doable and catering towards beginners.\",\"23\":\"this is a very difficult class if you are new to coding. I thought I would be fine because I have a strong STEM\\/math background, but I had a really hard time. Connor is great though and he did a lot to help me succeed. Definitely go to office hours, definitely go to the review sessions, definitely work with your friends on the exercises. Not an easy A, but definitely not impossible. If you're nervous and deciding between 110 and 111, I would go with 110.\",\"24\":\"The pace of the course is a bit surprisingly quick to me (as a person who knew literally nothing about Python and Racket), and we were already talking about recursions in the second unit of the course. And many people in this class do come in with abundant experiences in coding. The exams are pretty straightforward, and the exercises are reasonably challenging. I personally believe that this course will be quite difficult for a person without much experience with coding.\",\"25\":\"Not too bad. Dr. Racket's annoying but Bain's a cool guy and the course is nothing you can't handle.\",\"26\":\"My only gripe with this class is that the class tries to accommodate for a wide skill range. People with 2\\u20133 years of coding experience are required to take this class while people with no coding experience are also required to take this class.\"}}\n"
     ]
    }
   ],
   "source": [
    "print(json_result)"
   ]
  },
  {
   "cell_type": "code",
   "execution_count": null,
   "metadata": {},
   "outputs": [],
   "source": []
  }
 ],
 "metadata": {
  "kernelspec": {
   "display_name": "Python 3",
   "language": "python",
   "name": "python3"
  },
  "language_info": {
   "codemirror_mode": {
    "name": "ipython",
    "version": 3
   },
   "file_extension": ".py",
   "mimetype": "text/x-python",
   "name": "python",
   "nbconvert_exporter": "python",
   "pygments_lexer": "ipython3",
   "version": "3.12.7"
  }
 },
 "nbformat": 4,
 "nbformat_minor": 2
}
