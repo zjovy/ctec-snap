{
 "cells": [
  {
   "cell_type": "code",
   "execution_count": 1,
   "metadata": {},
   "outputs": [],
   "source": [
    "import pandas as pd \n"
   ]
  },
  {
   "cell_type": "code",
   "execution_count": 12,
   "metadata": {},
   "outputs": [],
   "source": [
    "df = pd.read_csv(r\"C:\\Users\\mhenr\\Documents\\Github\\ctec-bot\\testing\\cs111_reviews.csv\")"
   ]
  },
  {
   "cell_type": "code",
   "execution_count": 18,
   "metadata": {},
   "outputs": [],
   "source": [
    "# Fixing the last incomplete response and finalizing the list\n",
    "\n",
    "responses = [\n",
    "    \"While I don't think I'll ever use racket as a language again the course was really good!\",\n",
    "    \"You don't need any computer science knowledge to understand/do well in this course. Personally, I wasn't a big fan of the at–home lectures and in–class working time; it often felt more beneficial to skip class and work independently on the attendance assignments (as they could usually be finished in less than 50 minutes). In–class review sessions for exams were helpful though, and the TAs were great.\",\n",
    "    \"This is a good class. The assignments can be challenging but you can always get help on them. The exams aren't difficult if you study a bit and you pretty much know what's gonna be on them. Sara is a fantastic teacher, super nice, and really wants her students to be successful.\",\n",
    "    \"This was a GREAT intro course for anyone interested in CS. While yes, Racket is not a very practical language to learn, it does teach the fundamentals well and 'levels the playing field.' If you're not interested in doing a CS major/minor later on, however, I would recommend just doing 110/150 to learn Python.\",\n",
    "    \"Prof. Sood is the best! She is clearly very enthusiastic about teaching and makes learning fun, which helped immensely in my first CS class ever. There were an abundance of PM (TA) office hours to guide you through each exercise if needed, especially if you don't have prior coding experience like myself. There were also a lot of old practice exams that were very helpful for review for the 2 exams of the quarter (no final).\",\n",
    "    \"My advice? Aim to ACE the first exam, which is significantly easier than the second exam. Since both exams combined only count for 40% of your grade, and assuming you do all the exercises completely (which also count for 40% of your grade for 9 exercises), you have a lot of leeway on the second exam in case it doesn't go too well. The grade cutoff for an A is a 94, which isn't too bad but if you don't do too well on the first exam, it can be hard. Good luck!\",\n",
    "    \"This is an incredibly easy class to take and pass. It is easy to learn and well taught, and barely takes more than a couple of hours a week.\",\n",
    "    \"I absolutely LOVE Professor Sood! She is truly such an amazing professor, extremely kind, caring, and understanding. This class was honestly very stress–free and manageable, just make sure to get help from your peers or go to office hours for help on the weekly homework and you'll be fine! Also only 2 exams throughout the quarter and no final which is great. I learned a lot about Racket and the ethics of computer science, really glad I took this course.\",\n",
    "    \"Despite the course being taught in a less popular language, I thought it was a decent introduction to programming. As someone with a bit of Python/R exposure, this course helped strengthen my coding logic skills. Additionally, Professor Sood was great at explaining concepts in class.\",\n",
    "    \"Very important.\",\n",
    "    \"This class is a good introduction to coding, and it is still interesting even if you have some experience coding already. The work is very manageable if you use the time provided in class to do the assignments. The flipped classroom setup can be a little annoying at times, but it allows you to get the assignments done in class, so it’s a trade off.\",\n",
    "    \"Sara is one of the nicest professors at NU. The TAs are not the MOST helpful, so try to take the class with friends. You can do poorly on exams as long as you do well on the projects due each week. Projects due every Friday, 2–3 really short, easy quizzes due before class each week. Two exams (midterm + final). There is also participation given for attendance, one outside of class discussion due (graded very easily), and an extra credit opportunity at the end.\",\n",
    "    \"This class is not difficult or time consuming. You can get all of the work done in class and you should go to office hours if you are stuck. Do not waste a lot of time trying to figure things out on your own. Make sure to do the exercises because they will help you with the exam and are the majority of your grade.\",\n",
    "    \"Professor absolutely amazing but I’m not a comp sci person so I didn’t like this class. Don’t love flipped classrooms. Lots of work.\",\n",
    "    \"Great class. This was my first CS class I liked Racket more than I thought I would. Two opportunities for extra credit and lots of office hours. Prof Sara is the best!\",\n",
    "    \"I highly discourage taking this course if you are between taking Compsci 110 and 111. IF YOU HAVE NO PRIOR CODING EXPERIENCE, I SUGGEST 110!!! Don't let some of the CTECs about Professor Bain scare you, 110 is much more fitting for non-majors than 111. Professor Sood was incredible, however, this class was extremely difficult if you're new to comp sci.\",\n",
    "    \"I think going to office hours or working with classmates to study course material and figure out challenging assignments was helpful.\",\n",
    "    \"Only take this class if you are planning or interested in going into computer science. If not, I recommend taking CS 110–0. This class was very fast–paced and it was difficult to keep up to the pace since I had never done any type of programming before this class. This class is definitely do–able and there are so many resources to help you... but if you don't have to take the class, I probably wouldn't take it. The assignments were not that bad, but there were two exams, and those were just difficult to study for.\",\n",
    "    \"Sara is a fantastic professor; she is so invested, supportive and considerate of our time. She remembered my name after learning it once on the first day of class. The culture of this class was so supportive and I truly felt like everyone was invested in trying to help me learn. This class taught me how to think about CS and approach coding problems. I sincerely wish I had taken the CS classes in order because I would have gotten much more out of CS 150 if I had this background knowledge. The exams were fair and the in–class help on the assignments made even the trickiest of problems make sense.\",\n",
    "    \"This course was a great introductory course to coding.\",\n",
    "    \"Prof. Sood is amazing! This course is so much fun, especially if you are interested in CS. It is not a great amount of work, but it does test you intellectually as well as your knowledge and enthusiasm for CS.\",\n",
    "    \"I took AP CS in high school and absolutely sucked at it but still managed to do well in this class. There are weekly coding assignments, which are pretty hard, but there are also a lot of office hours to help you. The 2 exams are much easier than the assignments so as long as you understand the basic concepts you should be fine. Overall great class!\",\n",
    "    \"Really great introductory course for CS.\",\n",
    "    \"This course did a really good job of going over the fundamentals of CS and helping me understand the things I need to do to succeed in a CS class. I really appreciated how supportive Professor Sood and the peer mentors are, as they helped me think about my code from different perspectives, and were always there to answer questions. I didn't find the exercises to be too long especially if you go to the peer mentors. I really enjoyed the class.\",\n",
    "    \"Gets significantly harder about halfway through. Not a good class to take if just looking for an easy A; take 110 instead. Exams are a lot easier than exercises, but still difficult.\",\n",
    "    \"This class is pretty easy to get an A in. Just watch the videos and fully understand them before applying them in the projects. If you don't mess up the weekly projects and don't lose points for silly reasons, you can do pretty bad on the exams and it won't really affect your grade.\",\n",
    "    \"The flipped classroom structure meant a lot of work outside of lecture, but was overall not the most work ever. Sara is very structured and every assignment is clear.\",\n",
    "    \"It was really good.\",\n",
    "    \"111 is a good introduction to programming in my eyes. Although the class is in Racket which is undoubtedly a bit silly, Sood and the rest of the class were great in teaching and helping develop the CS mindset.\",\n",
    "    \"Very easy class. I didn't spend much time on it and the tests were very easy. There is class participation every day, so you have to go to class.\",\n",
    "    \"Racket is annoying, but Sara and the TAs are great! Would definitely recommend going to TA office hours if you got confused by some questions/concepts.\",\n",
    "    \"As someone with computer science experience, this course is so easy that I felt I got very little from it. Starting from scratch makes sense conceptually, but I wish the course had provided more opportunities to stretch our knowledge in more creative ways. I really appreciate Sara and the TAs for their helpfulness and ingenuity, but I think I could have gained so much more from this class with a few tweaks.\",\n",
    "    \"This was an excellent introductory CS course. Prof Sood is the best and structures the class very well. Exercises and assessments are very reasonable. Class is swarmed with peer mentors who are super helpful and also friendly.\",\n",
    "    \"Flipped classroom so you have to get good at remembering to watch the video lectures.\",\n",
    "    \"Awesome course, I didn't do very well but it was my first CS class and so fun and well taught.\",\n",
    "    \"I enjoyed this course. It is a flipped class, and it was really helpful to have peer mentors help us through all of the assignments and worksheets.\"]"
   ]
  },
  {
   "cell_type": "code",
   "execution_count": 20,
   "metadata": {},
   "outputs": [],
   "source": [
    "responses.append(\"Racket is extremely annoying. However, it does do a decent job of teaching basic coding concepts and I don't regret taking this class. The best way to succeed in this class is to really check your work on every single exercise, and rewatch the module videos when you get stuck. Overall, not bad or time consuming.\")"
   ]
  },
  {
   "cell_type": "code",
   "execution_count": 21,
   "metadata": {},
   "outputs": [],
   "source": [
    "responses.append(\"LOVE SOOD!!!! She is the best professor! I loved this class so much and I had never been interested in comp sci or taken anything related to it. It was so fun learning something so different from the classes that I normally take (STEM + Humanities). The layout of this class was really awesome– you watch lecture videos on your own and take mini quizzes (1–3 questions super easy) and then in class, you collaborate with other students, Sood goes over topics, TAs help, etc. There are office hours at every second of the day in the week so it's really easy to get help. The exercises/assignments are 40% of your grade and I got a 100 on every single one (easy bc you can just get help if you don't know)– this is the class I did work for when I was procrastinating for my other classes. I enjoyed this class, it's an easy A, and the TAs and Sood are amazing. TAKE THIS CLASS!!!\")"
   ]
  },
  {
   "cell_type": "code",
   "execution_count": 22,
   "metadata": {},
   "outputs": [],
   "source": [
    "responses.append(\"Exactly what I needed in an introductory CS class. Prof. Sood was great at presenting topics in an approachable way. Pace of covering material was perfect, sped up a little near the end but nothing unreasonable.\")"
   ]
  },
  {
   "cell_type": "code",
   "execution_count": 23,
   "metadata": {},
   "outputs": [],
   "source": [
    "responses.append(\"Prof. Sood is a good lecturer and genuinely cares about her students. The course is also well designed in the sense that it does a good job at teaching the content. That being said, I have a few critiques. Firstly, the amount of things this class makes you do outside of lecture time is annoying at best and overwhelming at worst. Not only are there weekly homework assignments, but often you have to watch a pre–recorded lecture on your own time (ranging from 10 to 40 minutes) BEFORE class starts. Second, the ethics assignments were pretty useless. The TA tried her hardest to spur discussion, but no one really wanted to be there and the whole thing seems like a waste of time. All that being said, if you have coding experience in any object–oriented language, you will cruise through this class after you get the initial hang of the Dr.Racket syntax and functional coding paradigm.\")"
   ]
  },
  {
   "cell_type": "code",
   "execution_count": 25,
   "metadata": {},
   "outputs": [],
   "source": [
    "temp = [\"Professor and TAs are wonderful. Class is a little difficult, especially considering it's an intro class that requires no prior experience, however it is definitely doable and you get a lot of in class support.\",\n",
    " 'The flipped discussion and lecture format of the class allowed me to learn at my own pace',\n",
    " 'As I had no prior experience with computer science, this class was a great introduction. I enjoyed learning Racket and this course sparked my interest in majoring in CS.',\n",
    " 'Professor Sood was amazing and I would highly recommend taking this class with her. She essentially uses a flipped classroom style, where we watch a few videos about each topic before class and then class time is used to work on homework assignments, which is incredibly helpful.',\n",
    " \"great class! sood is amazing. class is super chill and yet you learn a lot; best time to learning ratios I've ever had for a class at NU.\",\n",
    " 'Straightforward course. All lectures are recorded on Canvas and attendance is still graded, but they give tips for the assignments sometimes in class and you can get TA help. I had experience coming into this course but still feel like I learned some new things, especially towards the end when you start seeing the building blocks that more advanced beginner languages like java and python derive from languages similar to Racket.',\n",
    " \"This course was pretty challenging–– I had never taken a computer science course before. Racket just isn't the most intuitive language, and combined with the flipped–classroom teaching style (we'd watch the lecture videos on our own time, and work on assignments during class time), it was difficult to learn. Office hours are extremely helpful though, because the PMs are always willing to help!\",\n",
    " 'Prof Sood is very very nice. They have put in a lot of effort into developing this course.',\n",
    " \"However, I disagree highly with the whole CS department for having this course being taught in racket. They try very very hard to explain why its important but talking to a lot of seniors and applications itself, I see no point in this course. On top of that, as someone from non CS major for whom this specific class is a requirement, it was not the best use of time learning something I am definitely not gonna use. All most highly ranked institutions all got rid of Racket way back, I don't understand northwestern still sticking to it in a freshman class. I believe a lot of CS principles can be taught from python as well, which I intend to take in summer from ocw. I believe both the students and the department will benefit by fixing this fundamental flaw.\",\n",
    " 'Fantastic class! I would recommend taking this class with Professor Sood. She is very good at explaining things and very organized. I think her most redeeming quality as an instructor, however, is her ability to make everyone in the class feel included. She emphasizes this idea from day 1 and it makes a serious impact on the culture in the medium size lecture class.',\n",
    " 'this class is pretty chill, but you still learn a lot if you do the work',\n",
    " \"Drracket is kinda weird but not too annoying, and it gives you a good handle on coding. Sarah starts the class off with the assumption that nobody's coding before, which is helpful. The exercises made sense and the homework/mini quizzes kept me on track in the course.\",\n",
    " \"Having transferred and taken intro CS classes at my first school I felt that Racket was a significant downgrade, and frankly made my life more difficult than I felt it needed to be. The assignments aren't anything awful and the topics covered are very prominent topics in coding, but I still feel the course is significantly less impactful than it should be because of the language.\",\n",
    " 'We learned the easiest examples only to be met with intentionally tricky questions on the exam. What a waste of time.',\n",
    " 'I really enjoyed the organization of this course. my only criticism is having to do exercise 8 lol. learning hash is kind annoying tbh',\n",
    " 'This course was really hard. If you have the choice I suggest you take 110 over 111. The professor was amazing and helpful but the class itself was super difficult and time–consuming.',\n",
    " \"Really liked the flipped classroom format, gave me a lot of flexibility. I can choose to do remote work submission so I don't really need to go to class. 2 Midterms are fair. Sara is really good at explaining new concepts.\",\n",
    " \"I am relatively new to computer science and thought this course was difficult. HOWEVER, there is so much help provided that overall, the workload and assignments were completely manageable. The class is taught flipped style, meaning you watch the lecture and then do an activity in class. Though this is an effective way to learn for some, it just wasn't for me. It was so much easier to get distracted watching a lecture alone and I would have preferred learning racket in a lecture style (in a classroom) where I am already used to focusing. As for the workload, there is one assignment every week, 2–3 mini quizzes (which are very simple and you get to use notes), watching the lectures, ethics reflections (you will do 3), and two midterms. The workload is not bad but if you are not the best at CS, go to office hours! There are so many provided and they will help you get through some of the tougher assignments. Overall, a good, but challenging, introductory course.\",\n",
    " 'this course was really good! Not very challenging, but I still learned a good amount, and the exams were perfect because they allowed you to stay engaged in the course material without being super challenging. the instructor is also great, and very helpful',\n",
    " 'If you know how to code class is pretty straightforward',\n",
    " 'I dont find racket in general very helpful, however, the instruction was very well done and the exams were not too hard.',\n",
    " 'I never took a computer science class before this one, but I love how Sara teaches this course using flipped learning. The exercises are entertaining and the exams can be graded leniently with partial credit and are not worth as much as you think. Sara is really good at making sure the assignments prepare students but also to encourage students to take care of themselves.',\n",
    " \"This is a great course, despite the unfamiliarity of Racket as a language. The class starts out fundamental, and the difficulty increases relatively quickly. HOWEVER it's easy to succeed and learn a lot because of the way the class is formatted: lectures are short videos watched outside of class, so the lecture section is just work time where you can ask for help from the professor or any of the peer advisors. Professor Sood is wonderful and super helpful, and the tests (midterm and final) are very doable. Overall I would very much recommend this course, and I had a much better time than a lot of my friends did with 110.\",\n",
    " 'This course is very well organized, interesting, and not overly time consuming. People like to not like Racket but I thought it was pretty interesting.',\n",
    " 'Good class. I feel like I learned fundamental concepts of computer programming, and I think Racket was a good language for this purpose. Professor Sood is a really good teacher and the homework assignments were challenging but helpful for learning.']"
   ]
  },
  {
   "cell_type": "code",
   "execution_count": 26,
   "metadata": {},
   "outputs": [],
   "source": [
    "for i in temp:\n",
    "    responses.append(temp)\n",
    "    "
   ]
  },
  {
   "cell_type": "code",
   "execution_count": 28,
   "metadata": {},
   "outputs": [],
   "source": [
    "df = pd.DataFrame(responses)"
   ]
  },
  {
   "cell_type": "code",
   "execution_count": 29,
   "metadata": {},
   "outputs": [
    {
     "data": {
      "text/plain": [
       "65"
      ]
     },
     "execution_count": 29,
     "metadata": {},
     "output_type": "execute_result"
    }
   ],
   "source": [
    "len(df)"
   ]
  },
  {
   "cell_type": "code",
   "execution_count": 30,
   "metadata": {},
   "outputs": [],
   "source": [
    "df.to_csv(\"sara_sood_cs111.csv\", index=False)"
   ]
  },
  {
   "cell_type": "markdown",
   "metadata": {},
   "source": [
    "FIREBASE STUFF"
   ]
  },
  {
   "cell_type": "code",
   "execution_count": 33,
   "metadata": {},
   "outputs": [],
   "source": [
    "import firebase_admin\n",
    "from firebase_admin import credentials, db\n",
    "\n",
    "\n",
    "# Initialize Firebase\n",
    "\n",
    "\n",
    "cred = credentials.Certificate(\"path/to/serviceAccountKey.json\")\n",
    "firebase_admin.initialize_app(cred)\n",
    "\n",
    "# Get a reference to the database\n",
    "ref = db.reference(\"/\")\n",
    "\n",
    "# Add data\n",
    "ref.child(\"users\").child(\"user1\").set({\n",
    "    \"name\": \"John Doe\",\n",
    "    \"age\": 30,\n",
    "    \"city\": \"New York\"\n",
    "})"
   ]
  }
 ],
 "metadata": {
  "kernelspec": {
   "display_name": "Python 3",
   "language": "python",
   "name": "python3"
  },
  "language_info": {
   "codemirror_mode": {
    "name": "ipython",
    "version": 3
   },
   "file_extension": ".py",
   "mimetype": "text/x-python",
   "name": "python",
   "nbconvert_exporter": "python",
   "pygments_lexer": "ipython3",
   "version": "3.12.7"
  }
 },
 "nbformat": 4,
 "nbformat_minor": 2
}
